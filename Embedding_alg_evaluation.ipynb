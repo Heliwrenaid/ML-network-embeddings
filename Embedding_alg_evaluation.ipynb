{
  "nbformat": 4,
  "nbformat_minor": 0,
  "metadata": {
    "colab": {
      "name": "Embedding_alg_evaluation.ipynb",
      "provenance": [],
      "mount_file_id": "1N8uIXERkxWpnTl35tfE34t6qQ6hn2TD-",
      "authorship_tag": "ABX9TyPngkGVnz8FOve6VD55UrUy",
      "include_colab_link": true
    },
    "kernelspec": {
      "name": "python3",
      "display_name": "Python 3"
    },
    "language_info": {
      "name": "python"
    }
  },
  "cells": [
    {
      "cell_type": "markdown",
      "metadata": {
        "id": "view-in-github",
        "colab_type": "text"
      },
      "source": [
        "<a href=\"https://colab.research.google.com/github/Heliwrenaid/ML-network-embeddings/blob/js-dev/Embedding_alg_evaluation.ipynb\" target=\"_parent\"><img src=\"https://colab.research.google.com/assets/colab-badge.svg\" alt=\"Open In Colab\"/></a>"
      ]
    },
    {
      "cell_type": "code",
      "source": [
        "%tensorflow_version 1.x\n",
        "import tensorflow\n",
        "print(tensorflow.__version__)"
      ],
      "metadata": {
        "colab": {
          "base_uri": "https://localhost:8080/"
        },
        "id": "faiaJ0GoCb_M",
        "outputId": "37b9cace-6e18-4838-b848-24b10eb7f828"
      },
      "execution_count": 1,
      "outputs": [
        {
          "output_type": "stream",
          "name": "stdout",
          "text": [
            "TensorFlow 1.x selected.\n",
            "1.15.2\n"
          ]
        }
      ]
    },
    {
      "cell_type": "code",
      "source": [
        "%%capture\n",
        "%cd drive/MyDrive/GraphEmbedding-master\n",
        "!python setup.py install\n",
        "%cd examples\n",
        "!python deepwalk_wiki.py"
      ],
      "metadata": {
        "id": "eg1niJfoPSgm"
      },
      "execution_count": 2,
      "outputs": []
    },
    {
      "cell_type": "code",
      "source": [
        "%%capture\n",
        "# GENERAL\n",
        "import numpy as np\n",
        "from ge.classify import read_node_label, Classifier\n",
        "from sklearn.linear_model import LogisticRegression\n",
        "\n",
        "import matplotlib.pyplot as plt\n",
        "import networkx as nx\n",
        "from sklearn.manifold import TSNE\n",
        "import time\n",
        "\n",
        "# ALGORITHMS \n",
        "from ge import DeepWalk\n",
        "from ge import LINE\n",
        "from ge import Node2Vec\n",
        "from ge import SDNE\n",
        "from ge import Struc2Vec\n",
        "\n",
        "height = []\n",
        "bars = []"
      ],
      "metadata": {
        "id": "4r806oPwNOTO"
      },
      "execution_count": 3,
      "outputs": []
    },
    {
      "cell_type": "code",
      "source": [
        "%%capture\n",
        "start = time.time()\n",
        "\n",
        "G = nx.read_edgelist('../data/wiki/Wiki_edgelist.txt',create_using=nx.DiGraph(),nodetype=None,data=[('weight',int)])# Read graph\n",
        "model = DeepWalk(G,walk_length=10,num_walks=80,workers=1)#init model\n",
        "model.train(window_size=5,iter=3)# train model\n",
        "embeddings = model.get_embeddings()# get embedding vectors\n",
        "\n",
        "end = time.time()\n",
        "height.append(end - start)\n",
        "bars.append(\"Deepwalk\")"
      ],
      "metadata": {
        "id": "N-pif9jrbk7L"
      },
      "execution_count": 4,
      "outputs": []
    },
    {
      "cell_type": "code",
      "source": [
        "%%capture\n",
        "start = time.time()\n",
        "\n",
        "G = nx.read_edgelist('../data/wiki/Wiki_edgelist.txt',create_using=nx.DiGraph(),nodetype=None,data=[('weight',int)])#read graph\n",
        "\n",
        "model = LINE(G,embedding_size=128,order='second') #init model,order can be ['first','second','all']\n",
        "model.train(batch_size=1024,epochs=50,verbose=2)# train model\n",
        "embeddings = model.get_embeddings()# get embedding vectors\n",
        "\n",
        "end = time.time()\n",
        "height.append(end - start)\n",
        "bars.append(\"LINE\")"
      ],
      "metadata": {
        "colab": {
          "base_uri": "https://localhost:8080/"
        },
        "id": "wZ36vXbsdPZY",
        "outputId": "1163c5a1-d1b7-4d27-9994-ec9d8ac3515f"
      },
      "execution_count": 5,
      "outputs": [
        {
          "output_type": "stream",
          "name": "stdout",
          "text": [
            "WARNING:tensorflow:From /tensorflow-1.15.2/python3.7/tensorflow_core/python/keras/initializers.py:119: calling RandomUniform.__init__ (from tensorflow.python.ops.init_ops) with dtype is deprecated and will be removed in a future version.\n",
            "Instructions for updating:\n",
            "Call initializer instance with the dtype argument instead of passing it to the constructor\n",
            "WARNING:tensorflow:From /tensorflow-1.15.2/python3.7/tensorflow_core/python/ops/resource_variable_ops.py:1630: calling BaseResourceVariable.__init__ (from tensorflow.python.ops.resource_variable_ops) with constraint is deprecated and will be removed in a future version.\n",
            "Instructions for updating:\n",
            "If using Keras pass *_constraint arguments to layers.\n",
            "WARNING:tensorflow:From /usr/local/lib/python3.7/dist-packages/ge-0.0.0-py3.7.egg/ge/models/line.py:53: calling reduce_sum_v1 (from tensorflow.python.ops.math_ops) with keep_dims is deprecated and will be removed in a future version.\n",
            "Instructions for updating:\n",
            "keep_dims is deprecated, use keepdims instead\n"
          ]
        }
      ]
    },
    {
      "cell_type": "code",
      "source": [
        "%%capture\n",
        "start = time.time()\n",
        "G=nx.read_edgelist('../data/wiki/Wiki_edgelist.txt',\n",
        "                        create_using = nx.DiGraph(), nodetype = None, data = [('weight', int)])#read graph\n",
        "\n",
        "model = Node2Vec(G, walk_length = 10, num_walks = 80,p = 0.25, q = 4, workers = 1)#init model\n",
        "model.train(window_size = 5, iter = 3)# train model\n",
        "embeddings = model.get_embeddings()# get embedding vectors\n",
        "end = time.time()\n",
        "\n",
        "height.append(end - start)\n",
        "bars.append(\"Node2Vec\")"
      ],
      "metadata": {
        "id": "nWKnKnlXfQFh"
      },
      "execution_count": 7,
      "outputs": []
    },
    {
      "cell_type": "code",
      "source": [
        "# NIE DZIALA PRZEZ zbyt nowa numpy\n",
        "# %%capture\n",
        "# start = time.time()\n",
        "# G = nx.read_edgelist('../data/wiki/Wiki_edgelist.txt',create_using=nx.DiGraph(),nodetype=None,data=[('weight',int)])#read graph\n",
        "\n",
        "# model = SDNE(G,hidden_size=[256,128]) #init model\n",
        "# model.train(batch_size=3000,epochs=40,verbose=2)# train model\n",
        "# embeddings = model.get_embeddings()# get embedding vectors\n",
        "# end = time.time()\n",
        "\n",
        "# height.append(end - start)\n",
        "# bars.append(\"SDNE\")"
      ],
      "metadata": {
        "id": "IhBZob5ifRYh"
      },
      "execution_count": 6,
      "outputs": []
    },
    {
      "cell_type": "code",
      "source": [
        "start = time.time()\n",
        "G = nx.read_edgelist('../data/wiki/Wiki_edgelist.txt',create_using=nx.DiGraph(),nodetype=None,data=[('weight',int)])#read graph\n",
        "\n",
        "model = model = Struc2Vec(G, 10, 80, workers=4, verbose=40, ) #init model\n",
        "model.train(window_size = 5, iter = 3)# train model\n",
        "embeddings = model.get_embeddings()# get embedding vectors\n",
        "\n",
        "end = time.time()\n",
        "height.append(end - start)\n",
        "bars.append(\"Struc2Vec\")"
      ],
      "metadata": {
        "colab": {
          "base_uri": "https://localhost:8080/"
        },
        "id": "-NIXMZ-efVep",
        "outputId": "aa30dae8-7105-4cd2-cf14-7701b26e8097"
      },
      "execution_count": 8,
      "outputs": [
        {
          "output_type": "stream",
          "name": "stderr",
          "text": [
            "[Parallel(n_jobs=4)]: Using backend LokyBackend with 4 concurrent workers.\n",
            "[Parallel(n_jobs=4)]: Done   1 tasks      | elapsed:  5.8min\n",
            "[Parallel(n_jobs=4)]: Done   2 out of   4 | elapsed:  5.9min remaining:  5.9min\n",
            "[Parallel(n_jobs=4)]: Done   4 out of   4 | elapsed:  6.0min remaining:    0.0s\n",
            "[Parallel(n_jobs=4)]: Done   4 out of   4 | elapsed:  6.0min finished\n",
            "[Parallel(n_jobs=4)]: Using backend LokyBackend with 4 concurrent workers.\n",
            "[Parallel(n_jobs=4)]: Done   1 tasks      | elapsed:   46.1s\n",
            "[Parallel(n_jobs=4)]: Done   2 out of   4 | elapsed:  1.5min remaining:  1.5min\n",
            "[Parallel(n_jobs=4)]: Done   4 out of   4 | elapsed:  2.8min remaining:    0.0s\n",
            "[Parallel(n_jobs=4)]: Done   4 out of   4 | elapsed:  2.8min finished\n"
          ]
        },
        {
          "output_type": "stream",
          "name": "stdout",
          "text": [
            "Learning representation...\n",
            "Learning representation done!\n"
          ]
        }
      ]
    },
    {
      "cell_type": "code",
      "source": [
        "# Make a dataset:\n",
        "y_pos = np.arange(len(height))\n",
        " \n",
        "#Figsize\n",
        "plt.figure(figsize=(10,5))\n",
        " \n",
        "# Create bars\n",
        "plt.bar(y_pos, height, color = '#969696')\n",
        "  \n",
        "# Create names on the x-axis\n",
        "plt.xticks(y_pos, bars)\n",
        "plt.xlabel('Miesiąc', fontsize=12)\n",
        "plt.ylabel('Wysokość inflacji', fontsize=12)\n",
        "plt.xlabel('Embeddings Algorithm', fontsize=12, color='#323232')\n",
        "plt.ylabel('Time [s]', fontsize=12)\n",
        "\n",
        "plt.show()"
      ],
      "metadata": {
        "colab": {
          "base_uri": "https://localhost:8080/",
          "height": 337
        },
        "id": "XweAbLLIf9zi",
        "outputId": "ce9050be-bd18-4fce-d53c-0bfbd903bc56"
      },
      "execution_count": 9,
      "outputs": [
        {
          "output_type": "display_data",
          "data": {
            "text/plain": [
              "<Figure size 720x360 with 1 Axes>"
            ],
            "image/png": "[encoded data removed]"
          },
          "metadata": {
            "needs_background": "light"
          }
        }
      ]
    },
    {
      "cell_type": "code",
      "source": [
        "!python --version"
      ],
      "metadata": {
        "colab": {
          "base_uri": "https://localhost:8080/"
        },
        "id": "OYGWgyelnGyp",
        "outputId": "d382d77e-b00c-4a2f-f493-dc62268145b3"
      },
      "execution_count": 16,
      "outputs": [
        {
          "output_type": "stream",
          "name": "stdout",
          "text": [
            "Python 3.7.13\n"
          ]
        }
      ]
    }
  ]
}