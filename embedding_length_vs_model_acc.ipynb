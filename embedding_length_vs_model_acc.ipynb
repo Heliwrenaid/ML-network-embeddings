{
  "nbformat": 4,
  "nbformat_minor": 0,
  "metadata": {
    "colab": {
      "name": "collab_main.ipynb",
      "provenance": [],
      "collapsed_sections": []
    },
    "kernelspec": {
      "name": "python3",
      "display_name": "Python 3"
    },
    "language_info": {
      "name": "python"
    }
  },
  "cells": [
    {
      "cell_type": "code",
      "source": [
        "vector_len = 512"
      ],
      "metadata": {
        "id": "Kl02usxch85v"
      },
      "execution_count": 406,
      "outputs": []
    },
    {
      "cell_type": "code",
      "execution_count": 407,
      "metadata": {
        "colab": {
          "base_uri": "https://localhost:8080/"
        },
        "id": "Gx6fbGgA--sj",
        "outputId": "f8133961-f283-4045-bf38-4464fce12112"
      },
      "outputs": [
        {
          "output_type": "stream",
          "name": "stdout",
          "text": [
            "Looking in indexes: https://pypi.org/simple, https://us-python.pkg.dev/colab-wheels/public/simple/\n",
            "Requirement already satisfied: node2vec in /usr/local/lib/python3.7/dist-packages (0.4.3)\n",
            "Requirement already satisfied: tensorflow in /usr/local/lib/python3.7/dist-packages (2.8.2+zzzcolab20220527125636)\n",
            "Requirement already satisfied: joblib>=0.13.2 in /usr/local/lib/python3.7/dist-packages (from node2vec) (1.1.0)\n",
            "Requirement already satisfied: networkx in /usr/local/lib/python3.7/dist-packages (from node2vec) (2.6.3)\n",
            "Requirement already satisfied: numpy in /usr/local/lib/python3.7/dist-packages (from node2vec) (1.21.6)\n",
            "Requirement already satisfied: tqdm in /usr/local/lib/python3.7/dist-packages (from node2vec) (4.64.0)\n",
            "Requirement already satisfied: gensim in /usr/local/lib/python3.7/dist-packages (from node2vec) (3.6.0)\n",
            "Requirement already satisfied: six>=1.12.0 in /usr/local/lib/python3.7/dist-packages (from tensorflow) (1.15.0)\n",
            "Requirement already satisfied: tensorboard<2.9,>=2.8 in /usr/local/lib/python3.7/dist-packages (from tensorflow) (2.8.0)\n",
            "Requirement already satisfied: h5py>=2.9.0 in /usr/local/lib/python3.7/dist-packages (from tensorflow) (3.1.0)\n",
            "Requirement already satisfied: keras-preprocessing>=1.1.1 in /usr/local/lib/python3.7/dist-packages (from tensorflow) (1.1.2)\n",
            "Requirement already satisfied: typing-extensions>=3.6.6 in /usr/local/lib/python3.7/dist-packages (from tensorflow) (4.2.0)\n",
            "Requirement already satisfied: grpcio<2.0,>=1.24.3 in /usr/local/lib/python3.7/dist-packages (from tensorflow) (1.46.3)\n",
            "Requirement already satisfied: termcolor>=1.1.0 in /usr/local/lib/python3.7/dist-packages (from tensorflow) (1.1.0)\n",
            "Requirement already satisfied: libclang>=9.0.1 in /usr/local/lib/python3.7/dist-packages (from tensorflow) (14.0.1)\n",
            "Requirement already satisfied: keras<2.9,>=2.8.0rc0 in /usr/local/lib/python3.7/dist-packages (from tensorflow) (2.8.0)\n",
            "Requirement already satisfied: google-pasta>=0.1.1 in /usr/local/lib/python3.7/dist-packages (from tensorflow) (0.2.0)\n",
            "Requirement already satisfied: flatbuffers>=1.12 in /usr/local/lib/python3.7/dist-packages (from tensorflow) (2.0)\n",
            "Requirement already satisfied: tensorflow-io-gcs-filesystem>=0.23.1 in /usr/local/lib/python3.7/dist-packages (from tensorflow) (0.26.0)\n",
            "Requirement already satisfied: setuptools in /usr/local/lib/python3.7/dist-packages (from tensorflow) (57.4.0)\n",
            "Requirement already satisfied: gast>=0.2.1 in /usr/local/lib/python3.7/dist-packages (from tensorflow) (0.5.3)\n",
            "Requirement already satisfied: absl-py>=0.4.0 in /usr/local/lib/python3.7/dist-packages (from tensorflow) (1.0.0)\n",
            "Requirement already satisfied: opt-einsum>=2.3.2 in /usr/local/lib/python3.7/dist-packages (from tensorflow) (3.3.0)\n",
            "Requirement already satisfied: protobuf<3.20,>=3.9.2 in /usr/local/lib/python3.7/dist-packages (from tensorflow) (3.17.3)\n",
            "Requirement already satisfied: astunparse>=1.6.0 in /usr/local/lib/python3.7/dist-packages (from tensorflow) (1.6.3)\n",
            "Requirement already satisfied: tensorflow-estimator<2.9,>=2.8 in /usr/local/lib/python3.7/dist-packages (from tensorflow) (2.8.0)\n",
            "Requirement already satisfied: wrapt>=1.11.0 in /usr/local/lib/python3.7/dist-packages (from tensorflow) (1.14.1)\n",
            "Requirement already satisfied: wheel<1.0,>=0.23.0 in /usr/local/lib/python3.7/dist-packages (from astunparse>=1.6.0->tensorflow) (0.37.1)\n",
            "Requirement already satisfied: cached-property in /usr/local/lib/python3.7/dist-packages (from h5py>=2.9.0->tensorflow) (1.5.2)\n",
            "Requirement already satisfied: google-auth-oauthlib<0.5,>=0.4.1 in /usr/local/lib/python3.7/dist-packages (from tensorboard<2.9,>=2.8->tensorflow) (0.4.6)\n",
            "Requirement already satisfied: tensorboard-data-server<0.7.0,>=0.6.0 in /usr/local/lib/python3.7/dist-packages (from tensorboard<2.9,>=2.8->tensorflow) (0.6.1)\n",
            "Requirement already satisfied: google-auth<3,>=1.6.3 in /usr/local/lib/python3.7/dist-packages (from tensorboard<2.9,>=2.8->tensorflow) (1.35.0)\n",
            "Requirement already satisfied: werkzeug>=0.11.15 in /usr/local/lib/python3.7/dist-packages (from tensorboard<2.9,>=2.8->tensorflow) (1.0.1)\n",
            "Requirement already satisfied: requests<3,>=2.21.0 in /usr/local/lib/python3.7/dist-packages (from tensorboard<2.9,>=2.8->tensorflow) (2.23.0)\n",
            "Requirement already satisfied: markdown>=2.6.8 in /usr/local/lib/python3.7/dist-packages (from tensorboard<2.9,>=2.8->tensorflow) (3.3.7)\n",
            "Requirement already satisfied: tensorboard-plugin-wit>=1.6.0 in /usr/local/lib/python3.7/dist-packages (from tensorboard<2.9,>=2.8->tensorflow) (1.8.1)\n",
            "Requirement already satisfied: pyasn1-modules>=0.2.1 in /usr/local/lib/python3.7/dist-packages (from google-auth<3,>=1.6.3->tensorboard<2.9,>=2.8->tensorflow) (0.2.8)\n",
            "Requirement already satisfied: rsa<5,>=3.1.4 in /usr/local/lib/python3.7/dist-packages (from google-auth<3,>=1.6.3->tensorboard<2.9,>=2.8->tensorflow) (4.8)\n",
            "Requirement already satisfied: cachetools<5.0,>=2.0.0 in /usr/local/lib/python3.7/dist-packages (from google-auth<3,>=1.6.3->tensorboard<2.9,>=2.8->tensorflow) (4.2.4)\n",
            "Requirement already satisfied: requests-oauthlib>=0.7.0 in /usr/local/lib/python3.7/dist-packages (from google-auth-oauthlib<0.5,>=0.4.1->tensorboard<2.9,>=2.8->tensorflow) (1.3.1)\n",
            "Requirement already satisfied: importlib-metadata>=4.4 in /usr/local/lib/python3.7/dist-packages (from markdown>=2.6.8->tensorboard<2.9,>=2.8->tensorflow) (4.11.4)\n",
            "Requirement already satisfied: zipp>=0.5 in /usr/local/lib/python3.7/dist-packages (from importlib-metadata>=4.4->markdown>=2.6.8->tensorboard<2.9,>=2.8->tensorflow) (3.8.0)\n",
            "Requirement already satisfied: pyasn1<0.5.0,>=0.4.6 in /usr/local/lib/python3.7/dist-packages (from pyasn1-modules>=0.2.1->google-auth<3,>=1.6.3->tensorboard<2.9,>=2.8->tensorflow) (0.4.8)\n",
            "Requirement already satisfied: certifi>=2017.4.17 in /usr/local/lib/python3.7/dist-packages (from requests<3,>=2.21.0->tensorboard<2.9,>=2.8->tensorflow) (2022.5.18.1)\n",
            "Requirement already satisfied: chardet<4,>=3.0.2 in /usr/local/lib/python3.7/dist-packages (from requests<3,>=2.21.0->tensorboard<2.9,>=2.8->tensorflow) (3.0.4)\n",
            "Requirement already satisfied: urllib3!=1.25.0,!=1.25.1,<1.26,>=1.21.1 in /usr/local/lib/python3.7/dist-packages (from requests<3,>=2.21.0->tensorboard<2.9,>=2.8->tensorflow) (1.24.3)\n",
            "Requirement already satisfied: idna<3,>=2.5 in /usr/local/lib/python3.7/dist-packages (from requests<3,>=2.21.0->tensorboard<2.9,>=2.8->tensorflow) (2.10)\n",
            "Requirement already satisfied: oauthlib>=3.0.0 in /usr/local/lib/python3.7/dist-packages (from requests-oauthlib>=0.7.0->google-auth-oauthlib<0.5,>=0.4.1->tensorboard<2.9,>=2.8->tensorflow) (3.2.0)\n",
            "Requirement already satisfied: scipy>=0.18.1 in /usr/local/lib/python3.7/dist-packages (from gensim->node2vec) (1.4.1)\n",
            "Requirement already satisfied: smart-open>=1.2.1 in /usr/local/lib/python3.7/dist-packages (from gensim->node2vec) (6.0.0)\n",
            "Looking in indexes: https://pypi.org/simple, https://us-python.pkg.dev/colab-wheels/public/simple/\n",
            "Requirement already satisfied: gensim in /usr/local/lib/python3.7/dist-packages (3.6.0)\n",
            "Requirement already satisfied: six>=1.5.0 in /usr/local/lib/python3.7/dist-packages (from gensim) (1.15.0)\n",
            "Requirement already satisfied: smart-open>=1.2.1 in /usr/local/lib/python3.7/dist-packages (from gensim) (6.0.0)\n",
            "Requirement already satisfied: numpy>=1.11.3 in /usr/local/lib/python3.7/dist-packages (from gensim) (1.21.6)\n",
            "Requirement already satisfied: scipy>=0.18.1 in /usr/local/lib/python3.7/dist-packages (from gensim) (1.4.1)\n",
            "/content\n"
          ]
        }
      ],
      "source": [
        "!pip install node2vec tensorflow\n",
        "!pip install gensim \n",
        "from deepwalk_config import *\n",
        "!pwd"
      ]
    },
    {
      "cell_type": "code",
      "source": [
        "# optionally load copy\n",
        "#!7z x copy.zip -o/content"
      ],
      "metadata": {
        "id": "VjRtk7G6YSr0"
      },
      "execution_count": 408,
      "outputs": []
    },
    {
      "cell_type": "markdown",
      "source": [
        "**-------------- Functions --------------**"
      ],
      "metadata": {
        "id": "zQjUzHbD-txn"
      }
    },
    {
      "cell_type": "code",
      "source": [
        "# choose links from AS file\n",
        "# samples_number for each link type (peer/customer)\n",
        "\n",
        "def get_as_data(as_relation_filename, samples_number):\n",
        "  as_relation_file = open(as_relation_filename, 'r')\n",
        "\n",
        "  peers = 0\n",
        "  customers = 0\n",
        "\n",
        "  X = []\n",
        "  Y = []\n",
        "\n",
        "  for line in as_relation_file:\n",
        "      if line.startswith('#'):\n",
        "          continue\n",
        "      data = line.split('|')\n",
        "\n",
        "      if '0' in data[2]:\n",
        "          if peers < samples_number:\n",
        "            X.append([data[0], data[1]])\n",
        "            Y.append(data[2])\n",
        "            peers += 1\n",
        "      else:\n",
        "          if customers < samples_number:\n",
        "            X.append([data[0], data[1]])\n",
        "            Y.append(data[2])\n",
        "            customers += 1\n",
        "  return X, Y\n",
        "\n",
        "\n",
        "def get_as_data2(as_relation_filename, samples_number):\n",
        "  as_relation_file = open(as_relation_filename, 'r')\n",
        "\n",
        "  peers = 0\n",
        "\n",
        "  X = []\n",
        "  Y = []\n",
        "\n",
        "  for line in as_relation_file:\n",
        "      if line.startswith('#'):\n",
        "          continue\n",
        "      data = line.split('|')\n",
        "\n",
        "      if peers < samples_number:\n",
        "        X.append([data[0], data[1]])\n",
        "        Y.append(data[2])\n",
        "        peers += 1\n",
        "       \n",
        "  return X, Y\n",
        "\n",
        "def get_as_data3(as_relation_filename, samples_number, skip):\n",
        "  as_relation_file = open(as_relation_filename, 'r')\n",
        "\n",
        "  peers = 0\n",
        "  skip_ = 0\n",
        "\n",
        "  X = []\n",
        "  Y = []\n",
        "\n",
        "  for line in as_relation_file:\n",
        "      if line.startswith('#'):\n",
        "          continue\n",
        "\n",
        "      if skip_ < skip:\n",
        "        skip_ += 1\n",
        "        continue\n",
        "        \n",
        "      data = line.split('|')\n",
        "\n",
        "      if peers < samples_number:\n",
        "        X.append([data[0], data[1]])\n",
        "        Y.append(data[2])\n",
        "        peers += 1\n",
        "       \n",
        "  return X, Y\n",
        "\n",
        "\n",
        "\n",
        "import csv\n",
        "\n",
        "# create dataset for neural network in format:\n",
        "# [start_node_embedding], [end_node_embedding], [link_type]\n",
        "def create_dataset(X, Y, X_embed, dataset_filename):\n",
        "\n",
        "  out = open(dataset_filename, 'w')\n",
        "  writer = csv.writer(out)\n",
        "\n",
        "  for i in range(len(X)):\n",
        "      data = []\n",
        "      data.extend(X_embed[X[i][0]])\n",
        "      data.extend(X_embed[X[i][1]])\n",
        "      if '0' in Y[i]:\n",
        "          data.append('0')\n",
        "      else:\n",
        "          data.append('1')\n",
        "      \n",
        "      writer.writerow(data)\n",
        "\n",
        "  out.close()\n",
        "\n",
        "\n",
        "# count links\n",
        "def display_link_stats(Y):\n",
        "\n",
        "  peers = 0\n",
        "  customers = 0\n",
        "\n",
        "  for y in Y:\n",
        "      if int(y) == 0:\n",
        "          peers = peers + 1\n",
        "      else:\n",
        "          customers = customers + 1\n",
        "\n",
        "  print('Peer:', peers, '\\n  Customer:', customers)\n",
        "\n",
        "# embeddings methods ----------------------------------\n",
        "\n",
        "import networkx as nx\n",
        "from node2vec import Node2Vec\n",
        "\n",
        "def node2vec_get_embeddings(as_data):\n",
        "\n",
        "  embedding_filename = \"embeddings_tmp_file\"\n",
        "\n",
        "  # Create a graph \n",
        "  graph = nx.Graph()\n",
        "  for AS in as_data:\n",
        "      graph.add_edge(AS[0], AS[1])\n",
        "\n",
        "  # Precompute probabilities and generate walks - **ON WINDOWS ONLY WORKS WITH workers=1**\n",
        "  node2vec = Node2Vec(graph, dimensions=vector_len, walk_length=30, num_walks=200, workers=4)  # Use temp_folder for big graphs\n",
        "\n",
        "  # Embed nodes\n",
        "  model = node2vec.fit(window=10, min_count=1, batch_words=4)  # Any keywords acceptable by gensim.Word2Vec can be passed, `dimensions` and `workers` are automatically passed (from the Node2Vec constructor)\n",
        "  \n",
        "  # Save embeddings for later use\n",
        "  model.wv.save_word2vec_format(embedding_filename)\n",
        "\n",
        "  embeddings_file = open(embedding_filename,'r')\n",
        "  node_embeddings = {}\n",
        "\n",
        "  i = 0\n",
        "  for line in embeddings_file:\n",
        "      if i == 0:\n",
        "          i = i + 1\n",
        "          continue\n",
        "      data = line.split(' ')\n",
        "      node_embeddings[data[0]] = data[1:]\n",
        "\n",
        "  return node_embeddings\n",
        "\n",
        "\n",
        "def deepwalk_get_embeddings(as_data, vector_len):\n",
        "\n",
        "  embedding_filename = \"embeddings_tmp_file\"\n",
        " \n",
        " # Create a graph \n",
        "  graph = nx.Graph()\n",
        "  for AS in as_data:\n",
        "      graph.add_edge(AS[0],AS[1])\n",
        "\n",
        "  # Precompute probabilities and generate walks - **ON WINDOWS ONLY WORKS WITH workers=1**\n",
        "  model = DeepWalk(graph,walk_length=10,num_walks=80,workers=1)  # Use temp_folder for big graphs\n",
        "  \n",
        "  # Embed nodes\n",
        "  model.train(embed_size=vector_len)# train model\n",
        "\n",
        "  # Save embeddings for later use\n",
        "  model.w2v_model.wv.save_word2vec_format(embedding_filename)\n",
        "\n",
        "  embeddings_file = open(embedding_filename,'r')\n",
        "  node_embeddings = {}\n",
        "\n",
        "  i = 0\n",
        "  for line in embeddings_file:\n",
        "      if i == 0:\n",
        "          i = i + 1\n",
        "          continue\n",
        "      data = line.split(' ')\n",
        "      node_embeddings[data[0]] = data[1:]\n",
        "\n",
        "  return node_embeddings"
      ],
      "metadata": {
        "id": "ELREEHbYkPeE"
      },
      "execution_count": 439,
      "outputs": []
    },
    {
      "cell_type": "markdown",
      "source": [
        "**-------------- Create datasets --------------**"
      ],
      "metadata": {
        "id": "tDx5l0L-_TKh"
      }
    },
    {
      "cell_type": "code",
      "source": [
        "# create model of neural network\n",
        "\n",
        "def create_model(vector_len):\n",
        "  model = Sequential()\n",
        "  model.add(Dense(32, input_dim=2*vector_len, activation='relu'))\n",
        "  model.add(Dense(16, activation='relu'))\n",
        "  model.add(Dense(1, activation='sigmoid'))\n",
        "  # Compile model\n",
        "  model.compile(loss='binary_crossentropy', optimizer='adam', metrics=['accuracy'])\n",
        "  return model"
      ],
      "metadata": {
        "id": "u2l3-KdHIsw0"
      },
      "execution_count": 440,
      "outputs": []
    },
    {
      "cell_type": "code",
      "source": [
        "import csv\n",
        "from pandas import read_csv\n",
        "from keras.models import Sequential\n",
        "from keras.layers import Dense\n",
        "from sklearn.model_selection import KFold\n",
        "from sklearn.utils import shuffle\n",
        "import matplotlib.pyplot as plt\n",
        "from tensorflow import keras\n",
        "import pandas as pd\n",
        "import numpy as np\n",
        "\n",
        "\n",
        "vector_sizes = []\n",
        "accuracy = []\n",
        "for vector_len in [4, 8, 16, 32, 64, 128, 256]:\n",
        "  print(\"Vector length:\", vector_len)\n",
        "  #create embeddings and basic dataset\n",
        "  samples = 1000\n",
        "\n",
        "  X, Y = get_as_data('as-rank.caida.peercones-with-IX.txt', samples / 2) # balanced\n",
        "  #display_link_stats(Y)\n",
        "\n",
        "  X_embed = deepwalk_get_embeddings(X, vector_len)\n",
        "  create_dataset(X, Y, X_embed, 'dataset_basic.csv')\n",
        "\n",
        "  # create datasets for training and testing --------------------------------\n",
        "\n",
        "\n",
        "  def split_data(X, Y):\n",
        "    \n",
        "    X_0 = []\n",
        "    Y_0 = []\n",
        "\n",
        "    X_1 = []\n",
        "    Y_1 = []\n",
        "\n",
        "    for i in range(len(X)):\n",
        "        if Y[i][0] == '0':\n",
        "          X_0.append(X[i])\n",
        "          Y_0.append([0])\n",
        "        else:\n",
        "          X_1.append(X[i])\n",
        "          Y_1.append([1])\n",
        "          \n",
        "    return X_0, Y_0, X_1, Y_1\n",
        "\n",
        "  def write_csv(filename, X, Y):\n",
        "    out = open(filename, 'w')\n",
        "    writer = csv.writer(out)\n",
        "    for i in range(len(X)):\n",
        "      data = []\n",
        "      data.extend(X[i])\n",
        "      data.extend(Y[i])\n",
        "      writer.writerow(data)\n",
        "\n",
        "\n",
        "  X = []\n",
        "  Y = []\n",
        "\n",
        "  with open('dataset_basic.csv', mode='r') as csv_file:\n",
        "    csv_reader = csv.reader(csv_file, delimiter=',')\n",
        "    for row in csv_reader:\n",
        "      X.append(row[0:2*vector_len])\n",
        "      Y.append(row[2*vector_len:])\n",
        "      \n",
        "\n",
        "  X_0, Y_0, X_1, Y_1 = split_data(X, Y)\n",
        "\n",
        "  X.clear()\n",
        "  Y.clear()\n",
        "\n",
        "  X.extend(X_0[0:450])\n",
        "  X.extend(X_1[0:450])\n",
        "\n",
        "  Y.extend(Y_0[0:450])\n",
        "  Y.extend(Y_1[0:450])\n",
        "\n",
        "  write_csv('dataset_balanced.csv', X, Y)\n",
        "\n",
        "  X.clear()\n",
        "  Y.clear()\n",
        "  X.extend(X_0[450:500])\n",
        "  X.extend(X_1[450:500])\n",
        "\n",
        "  Y.extend(Y_0[450:500])\n",
        "  Y.extend(Y_1[450:500])\n",
        "\n",
        "  write_csv('test_dataset_balanced.csv', X, Y)\n",
        "\n",
        "  # create, train and save model --------------------------------------\n",
        "\n",
        "\n",
        "  # load dataset\n",
        "  dataframe = read_csv(\"dataset_balanced.csv\", header=None)\n",
        "  #dataframe = shuffle(dataframe)\n",
        "  dataset = dataframe.values\n",
        "\n",
        "  # split into input (X) and output (Y) variables\n",
        "  X = dataset[:,0:2*vector_len].astype(float)\n",
        "  Y = dataset[:,2*vector_len].astype(int)\n",
        "\n",
        "  #display_link_stats(Y)\n",
        "  # evaluate model with standardized dataset\n",
        "  n_split=2\n",
        "  use_cross_validation = True\n",
        "\n",
        "  model=create_model(vector_len)\n",
        "\n",
        "  if (use_cross_validation == False):\n",
        "    history = model.fit(X, Y, epochs=8, batch_size=40, verbose=0)\n",
        "  else:\n",
        "    for train_index,test_index in KFold(n_splits=n_split, shuffle=True).split(X):\n",
        "\n",
        "      x_train,x_test=X[train_index],X[test_index]\n",
        "      y_train,y_test=Y[train_index],Y[test_index]\n",
        "      validation_data = [x_test, y_test];\n",
        "      \n",
        "      history = model.fit(x_train, y_train, epochs=8, batch_size=40, validation_data=validation_data, verbose=0)\n",
        "\n",
        "  model.save(\"model\")\n",
        "\n",
        "  # evaluate loaded model ------------------------------------------\n",
        "\n",
        "  # load dataset\n",
        "  dataframe = read_csv(\"test_dataset_balanced.csv\", header=None)\n",
        "\n",
        "  dataset = dataframe.values\n",
        "\n",
        "  # split into input (X) and output (Y) variables\n",
        "  X = dataset[:,0:2*vector_len].astype(float)\n",
        "  Y = dataset[:,2*vector_len]\n",
        "\n",
        "  #display_link_stats(Y)\n",
        "\n",
        "  model = keras.models.load_model('model')\n",
        "  predictions = (model.predict(X) > 0.5).astype(int)\n",
        "\n",
        "  success = 0\n",
        "  for i in range(len(X)):\n",
        "    #print(Y[i], \" -> \", predictions[i])\n",
        "    if int(predictions[i]) == int(Y[i]):\n",
        "      success += 1\n",
        "  print(\"Result:\", success/len(X)*100)\n",
        "  vector_sizes.append(vector_len)\n",
        "  accuracy.append(success/len(X)*100)\n",
        "\n",
        "\n",
        "plt.bar(vector_sizes, accuracy)\n",
        "plt.title('Embedding length vs accuracy')\n",
        "plt.ylabel('Accuracy')\n",
        "plt.xlabel('Embedding length')\n",
        "plt.show()\n",
        "print(vector_sizes)\n",
        "print(accuracy)\n"
      ],
      "metadata": {
        "id": "a7yHNam1_UmR",
        "outputId": "b36a7fd4-d123-4154-e5c6-c43135fd5ff8",
        "colab": {
          "base_uri": "https://localhost:8080/",
          "height": 1000
        }
      },
      "execution_count": 469,
      "outputs": [
        {
          "output_type": "stream",
          "name": "stdout",
          "text": [
            "Vector length: 4\n"
          ]
        },
        {
          "output_type": "stream",
          "name": "stderr",
          "text": [
            "[Parallel(n_jobs=1)]: Using backend SequentialBackend with 1 concurrent workers.\n",
            "[Parallel(n_jobs=1)]: Done   1 out of   1 | elapsed:    1.3s finished\n"
          ]
        },
        {
          "output_type": "stream",
          "name": "stdout",
          "text": [
            "Learning embedding vectors...\n",
            "Learning embedding vectors done!\n",
            "INFO:tensorflow:Assets written to: model/assets\n",
            "Result: 99.0\n",
            "Vector length: 8\n"
          ]
        },
        {
          "output_type": "stream",
          "name": "stderr",
          "text": [
            "[Parallel(n_jobs=1)]: Using backend SequentialBackend with 1 concurrent workers.\n",
            "[Parallel(n_jobs=1)]: Done   1 out of   1 | elapsed:    1.3s finished\n"
          ]
        },
        {
          "output_type": "stream",
          "name": "stdout",
          "text": [
            "Learning embedding vectors...\n",
            "Learning embedding vectors done!\n",
            "INFO:tensorflow:Assets written to: model/assets\n",
            "Result: 100.0\n",
            "Vector length: 16\n"
          ]
        },
        {
          "output_type": "stream",
          "name": "stderr",
          "text": [
            "[Parallel(n_jobs=1)]: Using backend SequentialBackend with 1 concurrent workers.\n",
            "[Parallel(n_jobs=1)]: Done   1 out of   1 | elapsed:    1.3s finished\n"
          ]
        },
        {
          "output_type": "stream",
          "name": "stdout",
          "text": [
            "Learning embedding vectors...\n",
            "Learning embedding vectors done!\n",
            "INFO:tensorflow:Assets written to: model/assets\n",
            "Result: 100.0\n",
            "Vector length: 32\n"
          ]
        },
        {
          "output_type": "stream",
          "name": "stderr",
          "text": [
            "[Parallel(n_jobs=1)]: Using backend SequentialBackend with 1 concurrent workers.\n",
            "[Parallel(n_jobs=1)]: Done   1 out of   1 | elapsed:    1.4s finished\n"
          ]
        },
        {
          "output_type": "stream",
          "name": "stdout",
          "text": [
            "Learning embedding vectors...\n",
            "Learning embedding vectors done!\n",
            "INFO:tensorflow:Assets written to: model/assets\n",
            "Result: 100.0\n",
            "Vector length: 64\n"
          ]
        },
        {
          "output_type": "stream",
          "name": "stderr",
          "text": [
            "[Parallel(n_jobs=1)]: Using backend SequentialBackend with 1 concurrent workers.\n",
            "[Parallel(n_jobs=1)]: Done   1 out of   1 | elapsed:    1.8s finished\n"
          ]
        },
        {
          "output_type": "stream",
          "name": "stdout",
          "text": [
            "Learning embedding vectors...\n",
            "Learning embedding vectors done!\n",
            "INFO:tensorflow:Assets written to: model/assets\n",
            "Result: 99.0\n",
            "Vector length: 128\n"
          ]
        },
        {
          "output_type": "stream",
          "name": "stderr",
          "text": [
            "[Parallel(n_jobs=1)]: Using backend SequentialBackend with 1 concurrent workers.\n",
            "[Parallel(n_jobs=1)]: Done   1 out of   1 | elapsed:    1.3s finished\n"
          ]
        },
        {
          "output_type": "stream",
          "name": "stdout",
          "text": [
            "Learning embedding vectors...\n",
            "Learning embedding vectors done!\n",
            "INFO:tensorflow:Assets written to: model/assets\n",
            "Result: 100.0\n",
            "Vector length: 256\n"
          ]
        },
        {
          "output_type": "stream",
          "name": "stderr",
          "text": [
            "[Parallel(n_jobs=1)]: Using backend SequentialBackend with 1 concurrent workers.\n",
            "[Parallel(n_jobs=1)]: Done   1 out of   1 | elapsed:    1.4s finished\n"
          ]
        },
        {
          "output_type": "stream",
          "name": "stdout",
          "text": [
            "Learning embedding vectors...\n",
            "Learning embedding vectors done!\n",
            "INFO:tensorflow:Assets written to: model/assets\n",
            "Result: 100.0\n"
          ]
        },
        {
          "output_type": "display_data",
          "data": {
            "text/plain": [
              "<Figure size 432x288 with 1 Axes>"
            ],
            "image/png": "[encoded data removed]"
          },
          "metadata": {
            "needs_background": "light"
          }
        },
        {
          "output_type": "stream",
          "name": "stdout",
          "text": [
            "[4, 8, 16, 32, 64, 128, 256]\n",
            "[99.0, 100.0, 100.0, 100.0, 99.0, 100.0, 100.0]\n"
          ]
        }
      ]
    }
  ]
}